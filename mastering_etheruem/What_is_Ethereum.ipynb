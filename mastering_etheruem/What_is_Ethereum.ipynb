{
 "cells": [
  {
   "cell_type": "markdown",
   "metadata": {},
   "source": [
    "<h3>Clients</h3>\n",
    "<p>Ethereum has several interoperable implementations of the client software, the most prominent of which are Go-Ethereum (Geth) and Parity.</p>\n",
    "\n",
    "<h3>チューリング完全性のイーサリアム上の定義</h3>\n",
    "<p>The fact that Ethereum is Turing Complete means that any program of any complexity can be computed in Ethereum.\n",
    "→But that flexibility brings some thorny security and resource management problems.</p>\n",
    "\n",
    "<h3>DAppの定義</h3>\n",
    "<p>A DApp is, at the very least, a smart contract and a web user-interface. More broadly, a DApp is a web application that is built on top of open, decentralized, peer-to-peer infrastructure services.<p>\n",
    "A DApp is composed of at least:\n",
    "* Smart contracts on a blockchain.\n",
    "* A web front-end user-interface.\n",
    "In addition, many DApps include other decentralized components, such as:\n",
    "* A decentralized (P2P) storage protocol and platform.\n",
    "* A decentralized (P2P) messaging protocol and platform."
   ]
  },
  {
   "cell_type": "code",
   "execution_count": null,
   "metadata": {
    "collapsed": true
   },
   "outputs": [],
   "source": []
  }
 ],
 "metadata": {
  "kernelspec": {
   "display_name": "Python 3",
   "language": "python",
   "name": "python3"
  },
  "language_info": {
   "codemirror_mode": {
    "name": "ipython",
    "version": 3
   },
   "file_extension": ".py",
   "mimetype": "text/x-python",
   "name": "python",
   "nbconvert_exporter": "python",
   "pygments_lexer": "ipython3",
   "version": "3.6.0"
  }
 },
 "nbformat": 4,
 "nbformat_minor": 2
}
