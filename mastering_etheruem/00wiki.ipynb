{
 "cells": [
  {
   "cell_type": "markdown",
   "metadata": {},
   "source": [
    "<h3>Assert</h3>\n",
    "<p>In Solidity assert(false) compiles to 0xfe, which is an invalid opcode, using up all remaining gas, and reverting all changes. When an assert() statement fails, something very wrong and unexpected shoud be happening, and you will need to fix your code. You should use assert to avoid conditions which should never, ever be possible.</p>\n",
    "\n",
    "<h3>Big-endian</h3>\n",
    "<p>A positional number representation where the most significant digit is first. The opposite of little-endian where the least significant digit is first.</p>\n",
    "\n",
    "<h3>Consensus</h3>\n",
    "<p>When several nodes, usually most nodes on the network, all have the same blocks in their locally-validated best block chain. Not to be confused with consensus rules.</p>\n",
    "\n",
    "<h3>Consensus rules</h3>\n",
    "<p>The block validation rules that full nodes follow to stay in consensus with other nodes. Not to be confused with consensus.</p>\n",
    "\n",
    "<h3>Contract creation transaction</h3>\n",
    "<p>A special transaction, with the \"zero address\" as the recipient, that is used to register a contract and record it on the Ethereum blockchain (see \"zero address”).</p>\n",
    "\n",
    "<h3>ERC</h3>\n",
    "<p>Ethereum Request for Comments. Some EIPs are labeled as ERCs, which denotes proposals attempting to define a specific standard of Ethereum usage.</p>\n",
    "\n",
    "<h3>Ethash</h3>\n",
    "<p>A Proof-of-Work algorithm for Ethereum 1.0. For more information, see https://github.com/ethereum/wiki/wiki/Ethash</p>\n",
    "\n",
    "<h3>Event</h3>\n",
    "<p>http://solidity.readthedocs.io/en/develop/contracts.html#events</p>\n",
    "\n",
    "<h3>Receipt</h3>\n",
    "<p>Data returned by an Ethereum client to represent the result of a particular transaction, including a hash of the transaction, its block number, the amount of gas used and, in case of deployment of a Smart Contract, the address of the Contract.</p>\n",
    "\n",
    "<h3>SELFDESTRUCT opcode</h3>\n",
    "<p>Smart contracts will exist and be executable as long as the whole network exists. They will disappear from the blockchain if they were programmed to self destruct or performing that operation using delegatecall or callcode. Once selfdestruct operation is performed, the remaining Ether stored at the contract address is sent to another address and the storage and code is removed from the state. Although this is the expected behavior, the pruning of selfdestructed contracts may or may not be implemented by Ethereum clients. SELFDESTRUCT was previously called SUICIDE, with EIP6, SUICIDE was renamed to SELFDESTRUCT.</p>\n",
    "\n",
    "<h3>Serpent</h3>\n",
    "<p>A procedural (imperative) programming language with syntax similar to Python. Can also be used to write functional (declarative) code, though it is not entirely free of side-effects. Used sparsely. First created by Vitalik Buterin.</p>"
   ]
  },
  {
   "cell_type": "code",
   "execution_count": null,
   "metadata": {
    "collapsed": true
   },
   "outputs": [],
   "source": []
  }
 ],
 "metadata": {
  "kernelspec": {
   "display_name": "Python 3",
   "language": "python",
   "name": "python3"
  },
  "language_info": {
   "codemirror_mode": {
    "name": "ipython",
    "version": 3
   },
   "file_extension": ".py",
   "mimetype": "text/x-python",
   "name": "python",
   "nbconvert_exporter": "python",
   "pygments_lexer": "ipython3",
   "version": "3.6.0"
  }
 },
 "nbformat": 4,
 "nbformat_minor": 2
}
